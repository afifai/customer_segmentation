{
 "cells": [
  {
   "cell_type": "markdown",
   "metadata": {},
   "source": [
    "# Customer Segmentation in Python\n",
    "## Segmentation using K-Means clustering algorithm\n",
    "Suppose that we have a company that selling some of the product, and you want to know how well does the selling performance of the product.\n",
    "\n",
    "You have the data that can we analyze, but what kind of analysis that we can do? \n",
    "\n",
    "Well, we can segment customers based on their buying behaviour on the market. \n",
    "\n",
    "Keep in mind that the data is really huge, and we can not analyze it using a bare eye. We have to use machine learning algorithms and the power of computing for it.\n",
    "\n",
    "This article will show you how to cluster customers on segments based on their behaviour using the K-Means algorithm in Python. \n",
    "\n",
    "I hope that this article will help you on how to do customer segmentation step-by-step from preparing the data to cluster it.\n",
    "\n",
    "### Plan Of Attack\n",
    "Before we get into the process, I will give you a brief on what kind of steps we will get.\n",
    "- Gather the data\n",
    "- Pre-process the data\n",
    "- Explore the data\n",
    "- Cluster the data\n",
    "- Interpret the result\n",
    "\n",
    "### The Analysis"
   ]
  },
  {
   "cell_type": "markdown",
   "metadata": {},
   "source": [
    "#### Gathering Data"
   ]
  },
  {
   "cell_type": "code",
   "execution_count": 1,
   "metadata": {},
   "outputs": [],
   "source": [
    "# ! pip install xlrd\n",
    "import pandas as pd\n",
    "import matplotlib.pyplot as plt\n",
    "import numpy as np\n",
    "import seaborn as sns\n",
    "from datetime import datetime\n",
    "from scipy import stats"
   ]
  },
  {
   "cell_type": "code",
   "execution_count": 1,
   "metadata": {},
   "outputs": [],
   "source": [
    "# open data and sample 1000 rows data\n"
   ]
  },
  {
   "cell_type": "markdown",
   "metadata": {},
   "source": [
    "### Data Preprocessing\n",
    "#### Create RFM Table"
   ]
  },
  {
   "cell_type": "code",
   "execution_count": null,
   "metadata": {},
   "outputs": [],
   "source": []
  },
  {
   "cell_type": "code",
   "execution_count": 88,
   "metadata": {},
   "outputs": [],
   "source": []
  },
  {
   "cell_type": "markdown",
   "metadata": {},
   "source": [
    "#### Skewness Analysis and Scaling"
   ]
  },
  {
   "cell_type": "code",
   "execution_count": 133,
   "metadata": {},
   "outputs": [],
   "source": [
    "\n",
    "def analyze_skewness(x):\n",
    "    fig, ax = plt.subplots(2, 2, figsize=(5,5))\n",
    "    sns.distplot(customers[x], ax=ax[0,0])\n",
    "    sns.distplot(np.log(customers[x]), ax=ax[0,1])\n",
    "    sns.distplot(np.sqrt(customers[x]), ax=ax[1,0])\n",
    "    sns.distplot(stats.boxcox(customers[x])[0], ax=ax[1,1])\n",
    "    plt.tight_layout()\n",
    "    plt.show()\n",
    "    \n",
    "    print(customers[x].skew().round(2))\n",
    "    print(np.log(customers[x]).skew().round(2))\n",
    "    print(np.sqrt(customers[x]).skew().round(2))\n",
    "    print(pd.Series(stats.boxcox(customers[x])[0]).skew().round(2))"
   ]
  },
  {
   "cell_type": "code",
   "execution_count": null,
   "metadata": {},
   "outputs": [],
   "source": []
  },
  {
   "cell_type": "markdown",
   "metadata": {},
   "source": [
    "### Modelling"
   ]
  },
  {
   "cell_type": "code",
   "execution_count": null,
   "metadata": {
    "scrolled": true
   },
   "outputs": [],
   "source": []
  },
  {
   "cell_type": "markdown",
   "metadata": {},
   "source": [
    "### Result Interpretation"
   ]
  },
  {
   "cell_type": "code",
   "execution_count": null,
   "metadata": {},
   "outputs": [],
   "source": []
  },
  {
   "cell_type": "markdown",
   "metadata": {},
   "source": [
    "### References\n",
    "Daqing C., Sai L.S, and Kun G., Data mining for the online retail industry: A case study of RFM model-based customer segmentation using data mining (2012), Journal of Database Marketing and Customer Strategy Management.<br>\n",
    "K. Jarrod Millman and Michael Aivazis. Python for Scientists and Engineers(2011). Computing in Science & Engineering.<br>\n",
    "https://towardsdatascience.com/top-3-methods-for-handling-skewed-data-1334e0debf45<br>\n",
    "https://www.geeksforgeeks.org/elbow-method-for-optimal-value-of-k-in-kmeans/"
   ]
  }
 ],
 "metadata": {
  "kernelspec": {
   "display_name": "Python 3 (ipykernel)",
   "language": "python",
   "name": "python3"
  },
  "language_info": {
   "codemirror_mode": {
    "name": "ipython",
    "version": 3
   },
   "file_extension": ".py",
   "mimetype": "text/x-python",
   "name": "python",
   "nbconvert_exporter": "python",
   "pygments_lexer": "ipython3",
   "version": "3.10.2"
  }
 },
 "nbformat": 4,
 "nbformat_minor": 2
}
